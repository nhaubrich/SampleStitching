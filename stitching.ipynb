{
 "cells": [
  {
   "cell_type": "code",
   "execution_count": 68,
   "id": "b5ce23b3",
   "metadata": {},
   "outputs": [
    {
     "data": {
      "application/vnd.jupyter.widget-view+json": {
       "model_id": "25fe250a508b4faf82580368ce6eba47",
       "version_major": 2,
       "version_minor": 0
      },
      "text/plain": [
       "Output()"
      ]
     },
     "metadata": {},
     "output_type": "display_data"
    },
    {
     "data": {
      "text/html": [
       "<pre style=\"white-space:pre;overflow-x:auto;line-height:normal;font-family:Menlo,'DejaVu Sans Mono',consolas,'Courier New',monospace\"></pre>\n"
      ],
      "text/plain": []
     },
     "metadata": {},
     "output_type": "display_data"
    },
    {
     "data": {
      "text/html": [
       "<pre style=\"white-space:pre;overflow-x:auto;line-height:normal;font-family:Menlo,'DejaVu Sans Mono',consolas,'Courier New',monospace\">\n",
       "</pre>\n"
      ],
      "text/plain": [
       "\n"
      ]
     },
     "metadata": {},
     "output_type": "display_data"
    },
    {
     "data": {
      "application/vnd.jupyter.widget-view+json": {
       "model_id": "190cefe7cdcc4e039699ba948bffdbd5",
       "version_major": 2,
       "version_minor": 0
      },
      "text/plain": [
       "Output()"
      ]
     },
     "metadata": {},
     "output_type": "display_data"
    },
    {
     "data": {
      "text/html": [
       "<pre style=\"white-space:pre;overflow-x:auto;line-height:normal;font-family:Menlo,'DejaVu Sans Mono',consolas,'Courier New',monospace\"></pre>\n"
      ],
      "text/plain": []
     },
     "metadata": {},
     "output_type": "display_data"
    },
    {
     "data": {
      "text/html": [
       "<pre style=\"white-space:pre;overflow-x:auto;line-height:normal;font-family:Menlo,'DejaVu Sans Mono',consolas,'Courier New',monospace\">\n",
       "</pre>\n"
      ],
      "text/plain": [
       "\n"
      ]
     },
     "metadata": {},
     "output_type": "display_data"
    },
    {
     "name": "stdout",
     "output_type": "stream",
     "text": [
      "{'V11/W1JetsToLNu_LHEWpT_50-150_TuneCP5_13TeV-amcnloFXFX-pythia8': 1.2304927079860744e-07, 'V11/W1JetsToLNu_LHEWpT_100-150_TuneCP5_13TeV-amcnloFXFX-pythia8': 2.4299434618168778e-08, 'V11/W1JetsToLNu_LHEWpT_150-250_TuneCP5_13TeV-amcnloFXFX-pythia8': 2.8343373931351637e-08}\n"
     ]
    }
   ],
   "source": [
    "import subprocess\n",
    "import coffea\n",
    "import coffea.processor as processor\n",
    "from coffea.nanoevents import BaseSchema\n",
    "from coffea import hist\n",
    "import uproot\n",
    "import glob\n",
    "\n",
    "\n",
    "#from Znn2017 import Znn2017\n",
    "\n",
    "path = \"/eos/cms/store/group/phys_higgs/hbb/ntuples/VHbbPostNano/2017/\"\n",
    "\n",
    "\n",
    "\n",
    "def xrdfsRecursive(fullpath):\n",
    "    itemlist = [ filename for filename in subprocess.check_output(['xrdfs',\"root://eoscms.cern.ch\",'ls',fullpath]).decode().split(\"\\n\")[:-1]]\n",
    "    if len(itemlist)==1 and itemlist[0]==fullpath:\n",
    "        return itemlist\n",
    "\n",
    "    newpaths = []\n",
    "    for path in itemlist:\n",
    "        newpaths+= xrdfsRecursive(path)\n",
    "    return newpaths\n",
    "\n",
    "\n",
    "class Sample():\n",
    "    def __init__(self,name,xsec):\n",
    "        self.name = name\n",
    "        self.xsec = xsec\n",
    "        self.genEventSum = 0\n",
    "#         print(path+name+\"/*/*/*\")\n",
    "        #self.files = glob.glob(path+name+\"/*/*/*\")[0]\n",
    "        badFileNames = [\"/eos/cms/store/group/phys_higgs/hbb/ntuples/VHbbPostNano/2017/V11/W1JetsToLNu_LHEWpT_150-250_TuneCP5_13TeV-amcnloFXFX-pythia8/W1JetsToLNu_LHEWpT_150-250_TuneCP5_13TeV-amcnloFXFX-pythia8/RunIIFall17NanoAODv4-PU2017_1282/210511_130812/0000/tree_38.root\",\n",
    "                       \"/eos/cms/store/group/phys_higgs/hbb/ntuples/VHbbPostNano/2017/V11/W1JetsToLNu_LHEWpT_150-250_TuneCP5_13TeV-amcnloFXFX-pythia8/W1JetsToLNu_LHEWpT_150-250_TuneCP5_13TeV-amcnloFXFX-pythia8/RunIIFall17NanoAODv4-PU2017_1282/210511_130812/0000/tree_48.root\",\n",
    "                       \"/eos/cms/store/group/phys_higgs/hbb/ntuples/VHbbPostNano/2017/V11/W1JetsToLNu_LHEWpT_150-250_TuneCP5_13TeV-amcnloFXFX-pythia8/W1JetsToLNu_LHEWpT_150-250_TuneCP5_13TeV-amcnloFXFX-pythia8/RunIIFall17NanoAODv4-PU2017_1282/210511_130812/0000/tree_45.root\"]\n",
    "        \n",
    "        self.filelist = [\"root://eoscms.cern.ch//\"+filename for filename in xrdfsRecursive(path+name) if filename.endswith(\".root\") and filename not in badFileNames]\n",
    "#         self.filelist = [self.filelist]\n",
    "        assert len(self.filelist)>0\n",
    "\n",
    "\n",
    "samples = {\n",
    "    \"Znn2017\": [Sample(\"V11/Z1JetsToNuNu_M-50_LHEZpT_50-150_TuneCP5_13TeV-amcnloFXFX-pythia8\",596.4),\n",
    "               Sample(\"V11/Z1JetsToNuNu_M-50_LHEZpT_150-250_TuneCP5_13TeV-amcnloFXFX-pythia8\",17.98),\n",
    "               Sample(\"V11/Z1JetsToNuNu_M-50_LHEZpT_250-400_TuneCP5_13TeV-amcnloFXFX-pythia8\",2.057),\n",
    "               Sample(\"V11/Z1JetsToNuNu_M-50_LHEZpT_400-inf_TuneCP5_13TeV-amcnloFXFX-pythia8\",0.0224),\n",
    "               Sample(\"V11/Z2JetsToNuNu_M-50_LHEZpT_50-150_TuneCP5_13TeV-amcnloFXFX-pythia8\",325.7),\n",
    "                Sample(\"V11/Z2JetsToNuNu_M-50_LHEZpT_150-250_TuneCP5_13TeV-amcnloFXFX-pythia8\",29.76),\n",
    "                Sample(\"V11-NLO/Z2JetsToNuNu_M-50_LHEZpT_250-400_TuneCP5_13TeV-amcnloFXFX-pythia8\",5.166),\n",
    "                Sample(\"V11/Z2JetsToNuNU_M-50_LHEZpT_400-inf_TuneCP5_13TeV-amcnloFXFX-pythia8\",.08457),\n",
    "               ],\n",
    "    \"Wln2017\": [Sample(\"V11/W1JetsToLNu_LHEWpT_50-150_TuneCP5_13TeV-amcnloFXFX-pythia8\",2661),\n",
    "               Sample(\"V11/W1JetsToLNu_LHEWpT_100-150_TuneCP5_13TeV-amcnloFXFX-pythia8\",286.1),\n",
    "               Sample(\"V11/W1JetsToLNu_LHEWpT_150-250_TuneCP5_13TeV-amcnloFXFX-pythia8\",71.9),\n",
    "#                Sample(\"V11/W1JetsToLNu_LHEWpT_250-400_TuneCP5_13TeV-amcnloFXFX-pythia8\",8.05),\n",
    "#                Sample(\"V11/W1JetsToLNu_LHEWpT_400-inf_TuneCP5_13TeV-amcnloFXFX-pythia8\",0.885),\n",
    "#                Sample(\"V11/W2JetsToLNu_LHEWpT_0-50_TuneCP5_13TeV-amcnloFXFX-pythia8\",1615.0),\n",
    "#                Sample(\"V11/W2JetsToLNu_LHEWpT_50-150_TuneCP5_13TeV-amcnloFXFX-pythia8\",1331),\n",
    "#                Sample(\"V11/W2JetsToLNu_LHEWpT_100-150_TuneCP5_13TeV-amcnloFXFX-pythia8\",277.7),\n",
    "#                Sample(\"V11/W2JetsToLNu_LHEWpT_150-250_TuneCP5_13TeV-amcnloFXFX-pythia8\",105.9),\n",
    "#                Sample(\"V11/W2JetsToLNu_LHEWpT_250-400_TuneCP5_13TeV-amcnloFXFX-pythia8\",18.67),\n",
    "#                Sample(\"V11/W2JetsToLNu_LHEWpT_400-inf_TuneCP5_13TeV-amcnloFXFX-pythia8\",3.037),\n",
    "#                Sample(\"V11-NLO_anigamov/WJetsToLNu_0J_TuneCP5_13TeV-amcatnloFXFX-pythia8\",54500),\n",
    "#                Sample(\"V11-NLO_anigamov/WJetsToLNu_1J_TuneCP5_13TeV-amcatnloFXFX-pythia8\",8750),\n",
    "#                Sample(\"V11-NLO_anigamov/WJetsToLNu_2J_TuneCP5_13TeV-amcatnloFXFX-pythia8\",3010)]\n",
    "]}\n",
    "\n",
    "samplesToRun = samples[\"Wln2017\"]\n",
    "fileset = {}\n",
    "for sample in samplesToRun:\n",
    "    fileset[sample.name] = sample.filelist\n",
    "# print(fileset)\n",
    "\n",
    "class ProcessorSumw(processor.ProcessorABC):\n",
    "    def __init__(self):\n",
    "        dataset_axis = hist.Cat(\"dataset\",\"\")\n",
    "        self._accumulator = processor.dict_accumulator({\n",
    "            'genEventSumw': processor.defaultdict_accumulator(float),\n",
    "        })\n",
    "\n",
    "    @property\n",
    "    def accumulator(self):\n",
    "        return self._accumulator\n",
    "    \n",
    "    def process(self, runs):\n",
    "        dataset = runs.metadata['dataset']\n",
    "        output = self.accumulator.identity()\n",
    "\n",
    "        output['genEventSumw'][dataset]+=sum(runs.genEventSumw)\n",
    "        return output\n",
    "\n",
    "    def postprocess(self, accumulator):\n",
    "        return accumulator\n",
    "\n",
    "runs = processor.run_uproot_job(\n",
    "    fileset,\n",
    "    treename=\"Runs\",\n",
    "    processor_instance=ProcessorSumw(),\n",
    "    executor=processor.iterative_executor,\n",
    "    executor_args={\"schema\": BaseSchema },\n",
    "    maxchunks=4,\n",
    ")\n",
    "\n",
    "\n",
    "scaleFactors = {}\n",
    "for sample in samplesToRun:\n",
    "    scaleFactors[sample.name] = sample.xsec/runs[\"genEventSumw\"][sample.name]\n",
    "#     sample.genEventSum = runs[\"genEventSumw\"][sample.name]\n",
    "print(scaleFactors)"
   ]
  },
  {
   "cell_type": "code",
   "execution_count": 69,
   "id": "9a73de53",
   "metadata": {},
   "outputs": [
    {
     "data": {
      "application/vnd.jupyter.widget-view+json": {
       "model_id": "449fadde77bf446895c284f23b47e67e",
       "version_major": 2,
       "version_minor": 0
      },
      "text/plain": [
       "Output()"
      ]
     },
     "metadata": {},
     "output_type": "display_data"
    },
    {
     "data": {
      "text/html": [
       "<pre style=\"white-space:pre;overflow-x:auto;line-height:normal;font-family:Menlo,'DejaVu Sans Mono',consolas,'Courier New',monospace\"></pre>\n"
      ],
      "text/plain": []
     },
     "metadata": {},
     "output_type": "display_data"
    },
    {
     "data": {
      "text/html": [
       "<pre style=\"white-space:pre;overflow-x:auto;line-height:normal;font-family:Menlo,'DejaVu Sans Mono',consolas,'Courier New',monospace\">\n",
       "</pre>\n"
      ],
      "text/plain": [
       "\n"
      ]
     },
     "metadata": {},
     "output_type": "display_data"
    },
    {
     "data": {
      "application/vnd.jupyter.widget-view+json": {
       "model_id": "c880e455670744b5891cb75fdffe82f3",
       "version_major": 2,
       "version_minor": 0
      },
      "text/plain": [
       "Output()"
      ]
     },
     "metadata": {},
     "output_type": "display_data"
    },
    {
     "name": "stderr",
     "output_type": "stream",
     "text": [
      "/opt/conda/lib/python3.8/site-packages/coffea/nanoevents/schemas/nanoaod.py:193: RuntimeWarning: Missing cross-reference index for FatJet_genJetAK8Idx => GenJetAK8\n",
      "  warnings.warn(\n",
      "/opt/conda/lib/python3.8/site-packages/coffea/nanoevents/schemas/nanoaod.py:193: RuntimeWarning: Missing cross-reference index for FsrPhoton_muonIdx => Muon\n",
      "  warnings.warn(\n",
      "/opt/conda/lib/python3.8/site-packages/coffea/nanoevents/schemas/nanoaod.py:193: RuntimeWarning: Missing cross-reference index for Muon_fsrPhotonIdx => FsrPhoton\n",
      "  warnings.warn(\n",
      "/opt/conda/lib/python3.8/site-packages/coffea/nanoevents/schemas/nanoaod.py:193: RuntimeWarning: Missing cross-reference index for FatJet_genJetAK8Idx => GenJetAK8\n",
      "  warnings.warn(\n",
      "/opt/conda/lib/python3.8/site-packages/coffea/nanoevents/schemas/nanoaod.py:193: RuntimeWarning: Missing cross-reference index for FsrPhoton_muonIdx => Muon\n",
      "  warnings.warn(\n",
      "/opt/conda/lib/python3.8/site-packages/coffea/nanoevents/schemas/nanoaod.py:193: RuntimeWarning: Missing cross-reference index for Muon_fsrPhotonIdx => FsrPhoton\n",
      "  warnings.warn(\n",
      "/opt/conda/lib/python3.8/site-packages/coffea/nanoevents/schemas/nanoaod.py:193: RuntimeWarning: Missing cross-reference index for FatJet_genJetAK8Idx => GenJetAK8\n",
      "  warnings.warn(\n",
      "/opt/conda/lib/python3.8/site-packages/coffea/nanoevents/schemas/nanoaod.py:193: RuntimeWarning: Missing cross-reference index for FsrPhoton_muonIdx => Muon\n",
      "  warnings.warn(\n",
      "/opt/conda/lib/python3.8/site-packages/coffea/nanoevents/schemas/nanoaod.py:193: RuntimeWarning: Missing cross-reference index for FatJet_genJetAK8Idx => GenJetAK8\n",
      "  warnings.warn(\n",
      "/opt/conda/lib/python3.8/site-packages/coffea/nanoevents/schemas/nanoaod.py:193: RuntimeWarning: Missing cross-reference index for Muon_fsrPhotonIdx => FsrPhoton\n",
      "  warnings.warn(\n",
      "/opt/conda/lib/python3.8/site-packages/coffea/nanoevents/schemas/nanoaod.py:193: RuntimeWarning: Missing cross-reference index for FsrPhoton_muonIdx => Muon\n",
      "  warnings.warn(\n",
      "/opt/conda/lib/python3.8/site-packages/coffea/nanoevents/schemas/nanoaod.py:193: RuntimeWarning: Missing cross-reference index for Muon_fsrPhotonIdx => FsrPhoton\n",
      "  warnings.warn(\n",
      "/opt/conda/lib/python3.8/site-packages/coffea/nanoevents/schemas/nanoaod.py:193: RuntimeWarning: Missing cross-reference index for FatJet_genJetAK8Idx => GenJetAK8\n",
      "  warnings.warn(\n",
      "/opt/conda/lib/python3.8/site-packages/coffea/nanoevents/schemas/nanoaod.py:193: RuntimeWarning: Missing cross-reference index for FsrPhoton_muonIdx => Muon\n",
      "  warnings.warn(\n",
      "/opt/conda/lib/python3.8/site-packages/coffea/nanoevents/schemas/nanoaod.py:193: RuntimeWarning: Missing cross-reference index for Muon_fsrPhotonIdx => FsrPhoton\n",
      "  warnings.warn(\n",
      "/opt/conda/lib/python3.8/site-packages/coffea/nanoevents/schemas/nanoaod.py:193: RuntimeWarning: Missing cross-reference index for FatJet_genJetAK8Idx => GenJetAK8\n",
      "  warnings.warn(\n",
      "/opt/conda/lib/python3.8/site-packages/coffea/nanoevents/schemas/nanoaod.py:193: RuntimeWarning: Missing cross-reference index for FsrPhoton_muonIdx => Muon\n",
      "  warnings.warn(\n",
      "/opt/conda/lib/python3.8/site-packages/coffea/nanoevents/schemas/nanoaod.py:193: RuntimeWarning: Missing cross-reference index for Muon_fsrPhotonIdx => FsrPhoton\n",
      "  warnings.warn(\n",
      "/opt/conda/lib/python3.8/site-packages/coffea/nanoevents/schemas/nanoaod.py:193: RuntimeWarning: Missing cross-reference index for FatJet_genJetAK8Idx => GenJetAK8\n",
      "  warnings.warn(\n",
      "/opt/conda/lib/python3.8/site-packages/coffea/nanoevents/schemas/nanoaod.py:193: RuntimeWarning: Missing cross-reference index for FsrPhoton_muonIdx => Muon\n",
      "  warnings.warn(\n",
      "/opt/conda/lib/python3.8/site-packages/coffea/nanoevents/schemas/nanoaod.py:193: RuntimeWarning: Missing cross-reference index for Muon_fsrPhotonIdx => FsrPhoton\n",
      "  warnings.warn(\n",
      "/opt/conda/lib/python3.8/site-packages/coffea/nanoevents/schemas/nanoaod.py:193: RuntimeWarning: Missing cross-reference index for FatJet_genJetAK8Idx => GenJetAK8\n",
      "  warnings.warn(\n",
      "/opt/conda/lib/python3.8/site-packages/coffea/nanoevents/schemas/nanoaod.py:193: RuntimeWarning: Missing cross-reference index for FsrPhoton_muonIdx => Muon\n",
      "  warnings.warn(\n",
      "/opt/conda/lib/python3.8/site-packages/coffea/nanoevents/schemas/nanoaod.py:193: RuntimeWarning: Missing cross-reference index for Muon_fsrPhotonIdx => FsrPhoton\n",
      "  warnings.warn(\n"
     ]
    },
    {
     "data": {
      "text/html": [
       "<pre style=\"white-space:pre;overflow-x:auto;line-height:normal;font-family:Menlo,'DejaVu Sans Mono',consolas,'Courier New',monospace\"></pre>\n"
      ],
      "text/plain": []
     },
     "metadata": {},
     "output_type": "display_data"
    },
    {
     "data": {
      "text/html": [
       "<pre style=\"white-space:pre;overflow-x:auto;line-height:normal;font-family:Menlo,'DejaVu Sans Mono',consolas,'Courier New',monospace\">\n",
       "</pre>\n"
      ],
      "text/plain": [
       "\n"
      ]
     },
     "metadata": {},
     "output_type": "display_data"
    }
   ],
   "source": [
    "class Processor(processor.ProcessorABC):\n",
    "    def __init__(self,stitchResults):\n",
    "        self.stitchResults = stitchResults\n",
    "        dataset_axis = hist.Cat(\"dataset\", \"dataset\")\n",
    "\n",
    "        Vpt_axis = hist.Bin(\"Vpt\", \"LHE_Vpt [GeV]\", 40, 0, 500)\n",
    "        VptBins_axis = hist.Bin(\"VptBins\", \"LHE_Vpt [GeV]\", [0,50,100,150,250,400,2000])\n",
    "\n",
    "        NpNLO_axis = hist.Bin(\"NpNLO\",\"NpNLO\",3,0,3)\n",
    "        \n",
    "        self._accumulator = processor.dict_accumulator({\n",
    "            'LHE_Vpt': hist.Hist(\"Counts\", dataset_axis, Vpt_axis),\n",
    "            'reweighting': hist.Hist(\"Reweighting\",dataset_axis,VptBins_axis,NpNLO_axis),\n",
    "            'LHE_Vptstitched': hist.Hist(\"Counts\", dataset_axis, Vpt_axis),\n",
    "\n",
    "#             'LHE_Vpt': hist.Hist(\"Counts\", dataset_axis, Vpt_axis, NpNLO_axis),\n",
    "#             'LHE_NpNLO': hist.Hist(\"Counts\", dataset_axis, Vpt_axis),\n",
    "        })\n",
    "    @property\n",
    "    def accumulator(self):\n",
    "        return self._accumulator\n",
    "\n",
    "    def process(self, events):\n",
    "        output = self.accumulator.identity()\n",
    "        dataset = events.metadata[\"dataset\"]\n",
    "#         events = events[events.LHE.NpNLO==2]\n",
    "        Vpt = events.LHE.Vpt\n",
    "        nj = events.LHE.NpNLO\n",
    "        output['LHE_Vpt'].fill(dataset=dataset, Vpt=Vpt,weight=events.genWeight)\n",
    "        output['reweighting'].fill(dataset=dataset,VptBins=Vpt,NpNLO=events.LHE.NpNLO)\n",
    "\n",
    "        if self.stitchResults!=None:\n",
    "            tot=stitchResults[\"reweighting\"].sum(\"dataset\",overflow=\"all\").values(overflow=\"all\")[()][VptBins_axis.index(Vpt),NpNLO_axis.index(nj)]\n",
    "            sampletot=stitchResults[\"reweighting\"].values(overflow=\"all\")[str(dataset),][VptBins_axis.index(Vpt),NpNLO_axis.index(nj)]\n",
    "            output['LHE_Vptstitched'].fill(dataset=dataset, Vpt=Vpt,weight=events.genWeight*sampletot/tot)\n",
    "\n",
    "        return output\n",
    "\n",
    "    def postprocess(self, accumulator):\n",
    "        accumulator[\"LHE_Vpt\"].scale(scaleFactors,axis=\"dataset\")\n",
    "        if self.stitchResults!=None:\n",
    "            accumulator[\"LHE_Vptstitched\"].scale(scaleFactors,axis=\"dataset\")\n",
    "\n",
    "        return accumulator\n",
    "\n",
    "output = processor.run_uproot_job(fileset=fileset,\n",
    "        treename=\"Events\",\n",
    "        processor_instance=Processor(stitchResults=None),\n",
    "        executor = processor.futures_executor,\n",
    "        executor_args={ 'schema': processor.NanoAODSchema,\"workers\": 4},\n",
    "#         executor = processor.iterative_executor,\n",
    "#         executor_args={ 'schema': processor.NanoAODSchema},\n",
    "\n",
    "       #executor=processor.dask_executor,\n",
    "       #executor_args={'client': client, 'schema': processor.NanoAODSchema},\n",
    "       chunksize=250000)\n"
   ]
  },
  {
   "cell_type": "code",
   "execution_count": 70,
   "id": "5b620aac",
   "metadata": {},
   "outputs": [
    {
     "name": "stderr",
     "output_type": "stream",
     "text": [
      "/opt/conda/lib/python3.8/site-packages/coffea/hist/plot.py:333: UserWarning: Attempted to set non-positive bottom ylim on a log-scaled axis.\n",
      "Invalid limit will be ignored.\n",
      "  ax.set_ylim(0, None)\n"
     ]
    },
    {
     "data": {
      "image/png": "[encoded data removed]",
      "text/plain": [
       "<Figure size 432x288 with 1 Axes>"
      ]
     },
     "metadata": {
      "needs_background": "light"
     },
     "output_type": "display_data"
    }
   ],
   "source": [
    "%matplotlib inline\n",
    "import matplotlib.pyplot as plt\n",
    "from cycler import cycler\n",
    "fig, ax = plt.subplots()\n",
    "colors = ['#f7fcfd','#e5f5f9','#ccece6','#99d8c9','#66c2a4','#41ae76','#238b45','#006d2c','#00441b']\n",
    "colors = ['#f7fcfd','#e0ecf4','#bfd3e6','#9ebcda','#8c96c6','#8c6bb1','#88419d','#810f7c','#4d004b']\n",
    "ax.set_prop_cycle(cycler('color',colors))\n",
    "ax.semilogy(True)\n",
    "hist.plot1d(output[\"LHE_Vpt\"],stack=False,ax=ax,line_opts=None,fill_opts={'alpha':0.2,'edgecolor': (0,0,0,0.3)},clear=False)\n",
    "# hist.plot2d(output[\"LHE_Vpt\"],ax=ax,xaxis=\"LHE_Vpt\",clear=False)\n",
    "\n",
    "leg = ax.legend(bbox_to_anchor=(1,1), loc=\"upper left\")\n"
   ]
  },
  {
   "cell_type": "code",
   "execution_count": 71,
   "id": "b147bcc3",
   "metadata": {
    "scrolled": false
   },
   "outputs": [
    {
     "ename": "KeyError",
     "evalue": "('V11/W2JetsToLNu_LHEWpT_50-150_TuneCP5_13TeV-amcnloFXFX-pythia8',)",
     "output_type": "error",
     "traceback": [
      "\u001b[0;31m---------------------------------------------------------------------------\u001b[0m",
      "\u001b[0;31mKeyError\u001b[0m                                  Traceback (most recent call last)",
      "Input \u001b[0;32mIn [71]\u001b[0m, in \u001b[0;36m<cell line: 1>\u001b[0;34m()\u001b[0m\n\u001b[0;32m----> 1\u001b[0m \u001b[43moutput\u001b[49m\u001b[43m[\u001b[49m\u001b[38;5;124;43m\"\u001b[39;49m\u001b[38;5;124;43mreweighting\u001b[39;49m\u001b[38;5;124;43m\"\u001b[39;49m\u001b[43m]\u001b[49m\u001b[38;5;241;43m.\u001b[39;49m\u001b[43mvalues\u001b[49m\u001b[43m(\u001b[49m\u001b[43m)\u001b[49m\u001b[43m[\u001b[49m\u001b[38;5;28;43mstr\u001b[39;49m\u001b[43m(\u001b[49m\u001b[43mdataset\u001b[49m\u001b[43m)\u001b[49m\u001b[43m,\u001b[49m\u001b[43m]\u001b[49m\n\u001b[1;32m      2\u001b[0m \u001b[38;5;66;03m# help(output[\"reweighting\"])\u001b[39;00m\n\u001b[1;32m      3\u001b[0m \u001b[38;5;66;03m# VptBins_axis.index(2.4)\u001b[39;00m\n\u001b[1;32m      4\u001b[0m VptBins_axis \u001b[38;5;241m=\u001b[39m hist\u001b[38;5;241m.\u001b[39mBin(\u001b[38;5;124m\"\u001b[39m\u001b[38;5;124mVptBins\u001b[39m\u001b[38;5;124m\"\u001b[39m, \u001b[38;5;124m\"\u001b[39m\u001b[38;5;124mLHE_Vpt [GeV]\u001b[39m\u001b[38;5;124m\"\u001b[39m, [\u001b[38;5;241m0\u001b[39m,\u001b[38;5;241m50\u001b[39m,\u001b[38;5;241m100\u001b[39m,\u001b[38;5;241m150\u001b[39m,\u001b[38;5;241m250\u001b[39m,\u001b[38;5;241m400\u001b[39m,\u001b[38;5;241m2000\u001b[39m])\n",
      "\u001b[0;31mKeyError\u001b[0m: ('V11/W2JetsToLNu_LHEWpT_50-150_TuneCP5_13TeV-amcnloFXFX-pythia8',)"
     ]
    }
   ],
   "source": [
    "output[\"reweighting\"].values()[str(dataset),]\n",
    "# help(output[\"reweighting\"])\n",
    "# VptBins_axis.index(2.4)\n",
    "VptBins_axis = hist.Bin(\"VptBins\", \"LHE_Vpt [GeV]\", [0,50,100,150,250,400,2000])\n",
    "\n",
    "NpNLO_axis = hist.Bin(\"NpNLO\",\"NpNLO\",4,0,4)\n",
    "# print(dataset)\n",
    "# print(output[\"reweighting\"].values(overflow=\"all\"))\n",
    "Vpt,nj = 149,2\n",
    "# print(VptBins_axis.index(Vpt),NpNLO_axis.index(nj))\n",
    "tot=output[\"reweighting\"].sum(\"dataset\",overflow=\"all\").values(overflow=\"all\")[()][VptBins_axis.index(Vpt),NpNLO_axis.index(nj)]\n",
    "sampletot=output[\"reweighting\"].values(overflow=\"all\")[str(dataset),][VptBins_axis.index(Vpt),NpNLO_axis.index(nj)]"
   ]
  },
  {
   "cell_type": "code",
   "execution_count": 72,
   "id": "b3892e88",
   "metadata": {
    "scrolled": true
   },
   "outputs": [
    {
     "data": {
      "image/png": "[encoded data removed]",
      "text/plain": [
       "<Figure size 432x288 with 2 Axes>"
      ]
     },
     "metadata": {
      "needs_background": "light"
     },
     "output_type": "display_data"
    },
    {
     "data": {
      "image/png": "[encoded data removed]",
      "text/plain": [
       "<Figure size 432x288 with 2 Axes>"
      ]
     },
     "metadata": {
      "needs_background": "light"
     },
     "output_type": "display_data"
    },
    {
     "data": {
      "image/png": "[encoded data removed]",
      "text/plain": [
       "<Figure size 432x288 with 2 Axes>"
      ]
     },
     "metadata": {
      "needs_background": "light"
     },
     "output_type": "display_data"
    },
    {
     "data": {
      "image/png": "[encoded data removed]",
      "text/plain": [
       "<Figure size 432x288 with 2 Axes>"
      ]
     },
     "metadata": {
      "needs_background": "light"
     },
     "output_type": "display_data"
    }
   ],
   "source": [
    "stitchResults = output\n",
    "haveStitchResults = True\n",
    "# dataset=\"V11-NLO_anigamov/WJetsToLNu_0J_TuneCP5_13TeV-amcatnloFXFX-pythia8\"\n",
    "totalWeightSum = output[\"reweighting\"].sum(\"dataset\")\n",
    "hist.plot2d(output[\"reweighting\"].sum(\"dataset\"),xaxis=\"VptBins\")\n",
    "plt.title(\"total\")\n",
    "for dataset in output[\"reweighting\"].identifiers(axis=\"dataset\"):\n",
    "    hist.plot2d(output[\"reweighting\"][dataset].sum(\"dataset\"),xaxis=\"VptBins\")\n",
    "    plt.title(dataset)"
   ]
  },
  {
   "cell_type": "markdown",
   "id": "24f7e64e",
   "metadata": {},
   "source": [
    "# Apply and Check stitching"
   ]
  },
  {
   "cell_type": "code",
   "execution_count": null,
   "id": "b6bb06d0",
   "metadata": {
    "scrolled": true
   },
   "outputs": [
    {
     "data": {
      "application/vnd.jupyter.widget-view+json": {
       "model_id": "eaf10341982a4cd1a4545f5e2151b29a",
       "version_major": 2,
       "version_minor": 0
      },
      "text/plain": [
       "Output()"
      ]
     },
     "metadata": {},
     "output_type": "display_data"
    },
    {
     "name": "stderr",
     "output_type": "stream",
     "text": [
      "/opt/conda/lib/python3.8/site-packages/coffea/nanoevents/schemas/nanoaod.py:193: RuntimeWarning: Missing cross-reference index for FatJet_genJetAK8Idx => GenJetAK8\n",
      "  warnings.warn(\n",
      "/opt/conda/lib/python3.8/site-packages/coffea/nanoevents/schemas/nanoaod.py:193: RuntimeWarning: Missing cross-reference index for FsrPhoton_muonIdx => Muon\n",
      "  warnings.warn(\n",
      "/opt/conda/lib/python3.8/site-packages/coffea/nanoevents/schemas/nanoaod.py:193: RuntimeWarning: Missing cross-reference index for Muon_fsrPhotonIdx => FsrPhoton\n",
      "  warnings.warn(\n",
      "/opt/conda/lib/python3.8/site-packages/coffea/nanoevents/schemas/nanoaod.py:193: RuntimeWarning: Missing cross-reference index for FatJet_genJetAK8Idx => GenJetAK8\n",
      "  warnings.warn(\n",
      "/opt/conda/lib/python3.8/site-packages/coffea/nanoevents/schemas/nanoaod.py:193: RuntimeWarning: Missing cross-reference index for FsrPhoton_muonIdx => Muon\n",
      "  warnings.warn(\n",
      "/opt/conda/lib/python3.8/site-packages/coffea/nanoevents/schemas/nanoaod.py:193: RuntimeWarning: Missing cross-reference index for Muon_fsrPhotonIdx => FsrPhoton\n",
      "  warnings.warn(\n",
      "/opt/conda/lib/python3.8/site-packages/coffea/nanoevents/schemas/nanoaod.py:193: RuntimeWarning: Missing cross-reference index for FatJet_genJetAK8Idx => GenJetAK8\n",
      "  warnings.warn(\n",
      "/opt/conda/lib/python3.8/site-packages/coffea/nanoevents/schemas/nanoaod.py:193: RuntimeWarning: Missing cross-reference index for FsrPhoton_muonIdx => Muon\n",
      "  warnings.warn(\n",
      "/opt/conda/lib/python3.8/site-packages/coffea/nanoevents/schemas/nanoaod.py:193: RuntimeWarning: Missing cross-reference index for Muon_fsrPhotonIdx => FsrPhoton\n",
      "  warnings.warn(\n",
      "/opt/conda/lib/python3.8/site-packages/coffea/nanoevents/schemas/nanoaod.py:193: RuntimeWarning: Missing cross-reference index for FatJet_genJetAK8Idx => GenJetAK8\n",
      "  warnings.warn(\n",
      "/opt/conda/lib/python3.8/site-packages/coffea/nanoevents/schemas/nanoaod.py:193: RuntimeWarning: Missing cross-reference index for FsrPhoton_muonIdx => Muon\n",
      "  warnings.warn(\n",
      "/opt/conda/lib/python3.8/site-packages/coffea/nanoevents/schemas/nanoaod.py:193: RuntimeWarning: Missing cross-reference index for Muon_fsrPhotonIdx => FsrPhoton\n",
      "  warnings.warn(\n",
      "/opt/conda/lib/python3.8/site-packages/coffea/nanoevents/schemas/nanoaod.py:193: RuntimeWarning: Missing cross-reference index for FatJet_genJetAK8Idx => GenJetAK8\n",
      "  warnings.warn(\n",
      "/opt/conda/lib/python3.8/site-packages/coffea/nanoevents/schemas/nanoaod.py:193: RuntimeWarning: Missing cross-reference index for FsrPhoton_muonIdx => Muon\n",
      "  warnings.warn(\n",
      "/opt/conda/lib/python3.8/site-packages/coffea/nanoevents/schemas/nanoaod.py:193: RuntimeWarning: Missing cross-reference index for Muon_fsrPhotonIdx => FsrPhoton\n",
      "  warnings.warn(\n",
      "/opt/conda/lib/python3.8/site-packages/coffea/nanoevents/schemas/nanoaod.py:193: RuntimeWarning: Missing cross-reference index for FatJet_genJetAK8Idx => GenJetAK8\n",
      "  warnings.warn(\n",
      "/opt/conda/lib/python3.8/site-packages/coffea/nanoevents/schemas/nanoaod.py:193: RuntimeWarning: Missing cross-reference index for FsrPhoton_muonIdx => Muon\n",
      "  warnings.warn(\n",
      "/opt/conda/lib/python3.8/site-packages/coffea/nanoevents/schemas/nanoaod.py:193: RuntimeWarning: Missing cross-reference index for Muon_fsrPhotonIdx => FsrPhoton\n",
      "  warnings.warn(\n",
      "/opt/conda/lib/python3.8/site-packages/coffea/nanoevents/schemas/nanoaod.py:193: RuntimeWarning: Missing cross-reference index for FatJet_genJetAK8Idx => GenJetAK8\n",
      "  warnings.warn(\n",
      "/opt/conda/lib/python3.8/site-packages/coffea/nanoevents/schemas/nanoaod.py:193: RuntimeWarning: Missing cross-reference index for FsrPhoton_muonIdx => Muon\n",
      "  warnings.warn(\n",
      "/opt/conda/lib/python3.8/site-packages/coffea/nanoevents/schemas/nanoaod.py:193: RuntimeWarning: Missing cross-reference index for Muon_fsrPhotonIdx => FsrPhoton\n",
      "  warnings.warn(\n",
      "/opt/conda/lib/python3.8/site-packages/coffea/nanoevents/schemas/nanoaod.py:193: RuntimeWarning: Missing cross-reference index for FatJet_genJetAK8Idx => GenJetAK8\n",
      "  warnings.warn(\n",
      "/opt/conda/lib/python3.8/site-packages/coffea/nanoevents/schemas/nanoaod.py:193: RuntimeWarning: Missing cross-reference index for FsrPhoton_muonIdx => Muon\n",
      "  warnings.warn(\n",
      "/opt/conda/lib/python3.8/site-packages/coffea/nanoevents/schemas/nanoaod.py:193: RuntimeWarning: Missing cross-reference index for Muon_fsrPhotonIdx => FsrPhoton\n",
      "  warnings.warn(\n"
     ]
    }
   ],
   "source": [
    "output = processor.run_uproot_job(fileset=fileset,\n",
    "        treename=\"Events\",\n",
    "        processor_instance=Processor(stitchResults=stitchResults),\n",
    "        executor = processor.futures_executor,\n",
    "        executor_args={ 'schema': processor.NanoAODSchema,\"workers\": 4},\n",
    "#         executor = processor.iterative_executor,\n",
    "#         executor_args={ 'schema': processor.NanoAODSchema},\n",
    "\n",
    "       #executor=processor.dask_executor,\n",
    "       #executor_args={'client': client, 'schema': processor.NanoAODSchema},\n",
    "       chunksize=250000)"
   ]
  },
  {
   "cell_type": "code",
   "execution_count": null,
   "id": "b4475964",
   "metadata": {},
   "outputs": [],
   "source": [
    "%matplotlib inline\n",
    "import matplotlib.pyplot as plt\n",
    "from cycler import cycler\n",
    "fig, ax = plt.subplots()\n",
    "colors = ['#f7fcfd','#e5f5f9','#ccece6','#99d8c9','#66c2a4','#41ae76','#238b45','#006d2c','#00441b']\n",
    "colors = ['#f7fcfd','#e0ecf4','#bfd3e6','#9ebcda','#8c96c6','#8c6bb1','#88419d','#810f7c','#4d004b']\n",
    "ax.set_prop_cycle(cycler('color',colors))\n",
    "ax.semilogy(True)\n",
    "hist.plot1d(output[\"LHE_Vptstitched\"],stack=True,ax=ax,line_opts=None,fill_opts={'alpha':0.2,'edgecolor': (0,0,0,0.3)},clear=False)\n",
    "# hist.plot2d(output[\"LHE_Vpt\"],ax=ax,xaxis=\"LHE_Vpt\",clear=False)\n",
    "\n",
    "leg = ax.legend(bbox_to_anchor=(1,1), loc=\"upper left\")"
   ]
  },
  {
   "cell_type": "markdown",
   "id": "ec14a7dc",
   "metadata": {},
   "source": [
    "# Now, export to json"
   ]
  },
  {
   "cell_type": "code",
   "execution_count": 52,
   "id": "ad9b6391",
   "metadata": {},
   "outputs": [
    {
     "data": {
      "text/plain": [
       "'{\"V11-NLO_anigamov/WJetsToLNu_2J_TuneCP5_13TeV-amcatnloFXFX-pythia8\": {\"Vpt0\": {\"NpNLO0\": 0.0, \"NpNLO1\": 0.0, \"NpNLO2\": 411425.0, \"NpNLO3\": 0.0}, \"Vpt50\": {\"NpNLO0\": 0.0, \"NpNLO1\": 0.0, \"NpNLO2\": 304536.0, \"NpNLO3\": 0.0}, \"Vpt100\": {\"NpNLO0\": 0.0, \"NpNLO1\": 0.0, \"NpNLO2\": 104649.0, \"NpNLO3\": 0.0}, \"Vpt150\": {\"NpNLO0\": 0.0, \"NpNLO1\": 0.0, \"NpNLO2\": 57736.0, \"NpNLO3\": 0.0}, \"Vpt250\": {\"NpNLO0\": 0.0, \"NpNLO1\": 0.0, \"NpNLO2\": 11674.0, \"NpNLO3\": 0.0}, \"Vpt400\": {\"NpNLO0\": 0.0, \"NpNLO1\": 0.0, \"NpNLO2\": 1883.0, \"NpNLO3\": 0.0}}}'"
      ]
     },
     "execution_count": 52,
     "metadata": {},
     "output_type": "execute_result"
    }
   ],
   "source": [
    "import json\n",
    "\n",
    "exportDict = {}\n",
    "VptBins = [str(k).split(\",\")[0][1:] for k in VptBins_axis[1:]]\n",
    "NpNLOBins = [str(k).split(\",\")[0][1:] for k in NpNLO_axis[1:]]\n",
    "\n",
    "for sample in output[\"LHE_Vptstitched\"].values().keys():\n",
    "    weightList = output[\"reweighting\"][sample].values()[sample].tolist()\n",
    "#     print(weightList)\n",
    "    exportDict[str(sample[0])] = {}\n",
    "    \n",
    "    for i,row in enumerate(weightList):\n",
    "        exportDict[str(sample[0])][\"Vpt\"+VptBins[i]] = {}\n",
    "#         print(exportDict)\n",
    "        for j,column in enumerate(row):\n",
    "            exportDict[str(sample[0])][\"Vpt\"+VptBins[i]][\"NpNLO\"+NpNLOBins[j]] = column\n",
    "\n",
    "    break\n",
    "\n",
    "json.dumps(exportDict)"
   ]
  }
 ],
 "metadata": {
  "kernelspec": {
   "display_name": "Python 3 (ipykernel)",
   "language": "python",
   "name": "python3"
  },
  "language_info": {
   "codemirror_mode": {
    "name": "ipython",
    "version": 3
   },
   "file_extension": ".py",
   "mimetype": "text/x-python",
   "name": "python",
   "nbconvert_exporter": "python",
   "pygments_lexer": "ipython3",
   "version": "3.8.13"
  }
 },
 "nbformat": 4,
 "nbformat_minor": 5
}
